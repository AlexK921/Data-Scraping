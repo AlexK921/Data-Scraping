{
 "cells": [
  {
   "cell_type": "markdown",
   "id": "deaa2b19",
   "metadata": {},
   "source": [
    "# IMDb project - part 1"
   ]
  },
  {
   "cell_type": "markdown",
   "id": "94abdeeb",
   "metadata": {},
   "source": [
    "Import nessesary libs and functions"
   ]
  },
  {
   "cell_type": "code",
   "execution_count": 1,
   "id": "4c0be257",
   "metadata": {},
   "outputs": [],
   "source": [
    "import requests\n",
    "from bs4 import BeautifulSoup\n",
    "from datetime import datetime"
   ]
  },
  {
   "cell_type": "markdown",
   "id": "07b6e821",
   "metadata": {},
   "source": [
    "Current_year() function as one of helper functions located at the imdb_helper_functions.py. This function will be used to collect only films, that have been already released "
   ]
  },
  {
   "cell_type": "code",
   "execution_count": 2,
   "id": "ea6643ad",
   "metadata": {},
   "outputs": [],
   "source": [
    "def current_year():\n",
    "    return datetime.now().year"
   ]
  },
  {
   "cell_type": "markdown",
   "id": "4c4c81c2",
   "metadata": {},
   "source": [
    "## Tests"
   ]
  },
  {
   "cell_type": "markdown",
   "id": "c14a9b5f",
   "metadata": {},
   "source": [
    "### get_movies_by_actor_soup's tests"
   ]
  },
  {
   "cell_type": "markdown",
   "id": "e25af8a1",
   "metadata": {},
   "source": [
    "Test #1 - actor Dwayne Johnson https://www.imdb.com/name/nm0425005/"
   ]
  },
  {
   "cell_type": "code",
   "execution_count": 3,
   "id": "4220492a",
   "metadata": {},
   "outputs": [],
   "source": [
    "url = 'https://www.imdb.com/name/nm0425005/'"
   ]
  },
  {
   "cell_type": "code",
   "execution_count": 4,
   "id": "484e50a6",
   "metadata": {},
   "outputs": [],
   "source": [
    "def url_to_soup(url):\n",
    "    headers = {'Accept-Language' : 'en',\n",
    "          'X-FORWARDED-FOR' : '2.21.184.0'}\n",
    "    response = requests.get(url, headers=headers)\n",
    "    print(response.status_code)\n",
    "    soup = BeautifulSoup(response.text, features=\"html.parser\")\n",
    "    return soup"
   ]
  },
  {
   "cell_type": "code",
   "execution_count": 5,
   "id": "e061837a",
   "metadata": {},
   "outputs": [
    {
     "name": "stdout",
     "output_type": "stream",
     "text": [
      "200\n"
     ]
    }
   ],
   "source": [
    "actor_page_soup = url_to_soup(url+'fullcredits').find('div', class_='filmo-category-section')\n",
    "def get_movies_by_actor_soup(actor_page_soup, num_of_movies_limit=None):\n",
    "    movies = []\n",
    "    this_year = current_year()\n",
    "    for movie in actor_page_soup.find_all('div', class_='filmo-row'):\n",
    "        if num_of_movies_limit is not None and len(movies) >= num_of_movies_limit:\n",
    "            break\n",
    "        if movie.find('span', class_='in_production'):\n",
    "            continue\n",
    "        year_column = movie.find('span', class_='year_column')\n",
    "        if year_column:\n",
    "            year_text = year_column.text.strip()\n",
    "            if year_text.isdigit() and int(year_text) <= this_year:\n",
    "                movie_text = movie.text\n",
    "                if not any(keyword in movie_text for keyword in [\"TV Series\", \"Short\", \"Video Game\", \"Video short\", \"Video\", \"TV Movie\", \"TV Mini-Series\", \"TV Series short\", \"TV Special\"]):\n",
    "                    movie_url = 'https://www.imdb.com' + movie.find('a')['href']\n",
    "                    movies.append((movie.find('b').text, movie_url))\n",
    "    return movies"
   ]
  },
  {
   "cell_type": "code",
   "execution_count": 6,
   "id": "c2a173cf",
   "metadata": {},
   "outputs": [
    {
     "data": {
      "text/plain": [
       "[('Red One', 'https://www.imdb.com/title/tt14948432/'),\n",
       " ('Fast X', 'https://www.imdb.com/title/tt5433140/'),\n",
       " ('Black Adam', 'https://www.imdb.com/title/tt6443346/'),\n",
       " ('DC League of Super-Pets', 'https://www.imdb.com/title/tt8912936/'),\n",
       " ('Red Notice', 'https://www.imdb.com/title/tt7991608/'),\n",
       " ('Free Guy', 'https://www.imdb.com/title/tt6264654/'),\n",
       " ('Jungle Cruise', 'https://www.imdb.com/title/tt0870154/'),\n",
       " ('Jumanji: The Next Level', 'https://www.imdb.com/title/tt7975244/'),\n",
       " ('Fast & Furious Presents: Hobbs & Shaw',\n",
       "  'https://www.imdb.com/title/tt6806448/'),\n",
       " ('Fighting with My Family', 'https://www.imdb.com/title/tt6513120/'),\n",
       " ('Skyscraper', 'https://www.imdb.com/title/tt5758778/'),\n",
       " ('Rampage', 'https://www.imdb.com/title/tt2231461/'),\n",
       " ('Jumanji: Welcome to the Jungle', 'https://www.imdb.com/title/tt2283362/'),\n",
       " ('Baywatch', 'https://www.imdb.com/title/tt1469304/'),\n",
       " ('The Fate of the Furious', 'https://www.imdb.com/title/tt4630562/'),\n",
       " ('Central Intelligence', 'https://www.imdb.com/title/tt1489889/'),\n",
       " ('Jem and the Holograms', 'https://www.imdb.com/title/tt3614530/'),\n",
       " ('San Andreas', 'https://www.imdb.com/title/tt2126355/'),\n",
       " ('Furious 7', 'https://www.imdb.com/title/tt2820852/'),\n",
       " ('Fast & Furious 6', 'https://www.imdb.com/title/tt1905041/'),\n",
       " ('Pain & Gain', 'https://www.imdb.com/title/tt1980209/'),\n",
       " ('Empire State', 'https://www.imdb.com/title/tt2171867/'),\n",
       " ('G.I. Joe: Retaliation', 'https://www.imdb.com/title/tt1583421/'),\n",
       " ('Journey 2: The Mysterious Island', 'https://www.imdb.com/title/tt1397514/'),\n",
       " ('Fast Five', 'https://www.imdb.com/title/tt1596343/'),\n",
       " ('Faster', 'https://www.imdb.com/title/tt1433108/'),\n",
       " ('You Again', 'https://www.imdb.com/title/tt1414382/'),\n",
       " ('The Other Guys', 'https://www.imdb.com/title/tt1386588/'),\n",
       " ('Why Did I Get Married Too?', 'https://www.imdb.com/title/tt1391137/'),\n",
       " ('Planet 51', 'https://www.imdb.com/title/tt0762125/'),\n",
       " ('Race to Witch Mountain', 'https://www.imdb.com/title/tt1075417/'),\n",
       " ('Get Smart', 'https://www.imdb.com/title/tt0425061/'),\n",
       " ('The Game Plan', 'https://www.imdb.com/title/tt0492956/'),\n",
       " ('Reno 911!: Miami', 'https://www.imdb.com/title/tt0499554/'),\n",
       " ('Gridiron Gang', 'https://www.imdb.com/title/tt0421206/'),\n",
       " ('Southland Tales', 'https://www.imdb.com/title/tt0405336/'),\n",
       " ('Doom', 'https://www.imdb.com/title/tt0419706/'),\n",
       " ('Be Cool', 'https://www.imdb.com/title/tt0377471/'),\n",
       " ('Walking Tall', 'https://www.imdb.com/title/tt0351977/'),\n",
       " ('The Rundown', 'https://www.imdb.com/title/tt0327850/'),\n",
       " ('The Scorpion King', 'https://www.imdb.com/title/tt0277296/'),\n",
       " ('Longshot', 'https://www.imdb.com/title/tt0201694/'),\n",
       " ('The Mummy Returns', 'https://www.imdb.com/title/tt0209163/')]"
      ]
     },
     "execution_count": 6,
     "metadata": {},
     "output_type": "execute_result"
    }
   ],
   "source": [
    "get_movies_by_actor_soup(actor_page_soup)"
   ]
  },
  {
   "cell_type": "markdown",
   "id": "0063f142",
   "metadata": {},
   "source": [
    "Test #2 - actor Dwayne Johnson https://www.imdb.com/name/nm0425005/, num_of_movies_limit=100"
   ]
  },
  {
   "cell_type": "code",
   "execution_count": 7,
   "id": "073eb6c4",
   "metadata": {},
   "outputs": [
    {
     "data": {
      "text/plain": [
       "[('Red One', 'https://www.imdb.com/title/tt14948432/'),\n",
       " ('Fast X', 'https://www.imdb.com/title/tt5433140/'),\n",
       " ('Black Adam', 'https://www.imdb.com/title/tt6443346/'),\n",
       " ('DC League of Super-Pets', 'https://www.imdb.com/title/tt8912936/'),\n",
       " ('Red Notice', 'https://www.imdb.com/title/tt7991608/'),\n",
       " ('Free Guy', 'https://www.imdb.com/title/tt6264654/'),\n",
       " ('Jungle Cruise', 'https://www.imdb.com/title/tt0870154/'),\n",
       " ('Jumanji: The Next Level', 'https://www.imdb.com/title/tt7975244/'),\n",
       " ('Fast & Furious Presents: Hobbs & Shaw',\n",
       "  'https://www.imdb.com/title/tt6806448/'),\n",
       " ('Fighting with My Family', 'https://www.imdb.com/title/tt6513120/'),\n",
       " ('Skyscraper', 'https://www.imdb.com/title/tt5758778/'),\n",
       " ('Rampage', 'https://www.imdb.com/title/tt2231461/'),\n",
       " ('Jumanji: Welcome to the Jungle', 'https://www.imdb.com/title/tt2283362/'),\n",
       " ('Baywatch', 'https://www.imdb.com/title/tt1469304/'),\n",
       " ('The Fate of the Furious', 'https://www.imdb.com/title/tt4630562/'),\n",
       " ('Central Intelligence', 'https://www.imdb.com/title/tt1489889/'),\n",
       " ('Jem and the Holograms', 'https://www.imdb.com/title/tt3614530/'),\n",
       " ('San Andreas', 'https://www.imdb.com/title/tt2126355/'),\n",
       " ('Furious 7', 'https://www.imdb.com/title/tt2820852/'),\n",
       " ('Fast & Furious 6', 'https://www.imdb.com/title/tt1905041/'),\n",
       " ('Pain & Gain', 'https://www.imdb.com/title/tt1980209/'),\n",
       " ('Empire State', 'https://www.imdb.com/title/tt2171867/'),\n",
       " ('G.I. Joe: Retaliation', 'https://www.imdb.com/title/tt1583421/'),\n",
       " ('Journey 2: The Mysterious Island', 'https://www.imdb.com/title/tt1397514/'),\n",
       " ('Fast Five', 'https://www.imdb.com/title/tt1596343/'),\n",
       " ('Faster', 'https://www.imdb.com/title/tt1433108/'),\n",
       " ('You Again', 'https://www.imdb.com/title/tt1414382/'),\n",
       " ('The Other Guys', 'https://www.imdb.com/title/tt1386588/'),\n",
       " ('Why Did I Get Married Too?', 'https://www.imdb.com/title/tt1391137/'),\n",
       " ('Planet 51', 'https://www.imdb.com/title/tt0762125/'),\n",
       " ('Race to Witch Mountain', 'https://www.imdb.com/title/tt1075417/'),\n",
       " ('Get Smart', 'https://www.imdb.com/title/tt0425061/'),\n",
       " ('The Game Plan', 'https://www.imdb.com/title/tt0492956/'),\n",
       " ('Reno 911!: Miami', 'https://www.imdb.com/title/tt0499554/'),\n",
       " ('Gridiron Gang', 'https://www.imdb.com/title/tt0421206/'),\n",
       " ('Southland Tales', 'https://www.imdb.com/title/tt0405336/'),\n",
       " ('Doom', 'https://www.imdb.com/title/tt0419706/'),\n",
       " ('Be Cool', 'https://www.imdb.com/title/tt0377471/'),\n",
       " ('Walking Tall', 'https://www.imdb.com/title/tt0351977/'),\n",
       " ('The Rundown', 'https://www.imdb.com/title/tt0327850/'),\n",
       " ('The Scorpion King', 'https://www.imdb.com/title/tt0277296/'),\n",
       " ('Longshot', 'https://www.imdb.com/title/tt0201694/'),\n",
       " ('The Mummy Returns', 'https://www.imdb.com/title/tt0209163/')]"
      ]
     },
     "execution_count": 7,
     "metadata": {},
     "output_type": "execute_result"
    }
   ],
   "source": [
    "get_movies_by_actor_soup(actor_page_soup, 100)"
   ]
  },
  {
   "cell_type": "markdown",
   "id": "2e37ec85",
   "metadata": {},
   "source": [
    "Test #3 - actor Dwayne Johnson https://www.imdb.com/name/nm0425005/, num_of_movies_limit=5"
   ]
  },
  {
   "cell_type": "code",
   "execution_count": 8,
   "id": "a8d64b56",
   "metadata": {},
   "outputs": [
    {
     "data": {
      "text/plain": [
       "[('Red One', 'https://www.imdb.com/title/tt14948432/'),\n",
       " ('Fast X', 'https://www.imdb.com/title/tt5433140/'),\n",
       " ('Black Adam', 'https://www.imdb.com/title/tt6443346/'),\n",
       " ('DC League of Super-Pets', 'https://www.imdb.com/title/tt8912936/'),\n",
       " ('Red Notice', 'https://www.imdb.com/title/tt7991608/')]"
      ]
     },
     "execution_count": 8,
     "metadata": {},
     "output_type": "execute_result"
    }
   ],
   "source": [
    "get_movies_by_actor_soup(actor_page_soup, 5)"
   ]
  },
  {
   "cell_type": "markdown",
   "id": "7c383842",
   "metadata": {},
   "source": [
    "Test #4 - actress Scarlett Johansson https://www.imdb.com/name/nm0424060/"
   ]
  },
  {
   "cell_type": "code",
   "execution_count": 9,
   "id": "f9944e09",
   "metadata": {},
   "outputs": [],
   "source": [
    "url = 'https://www.imdb.com/name/nm0424060/'"
   ]
  },
  {
   "cell_type": "code",
   "execution_count": 10,
   "id": "e2659f18",
   "metadata": {},
   "outputs": [
    {
     "name": "stdout",
     "output_type": "stream",
     "text": [
      "200\n"
     ]
    },
    {
     "data": {
      "text/plain": [
       "[('Asteroid City', 'https://www.imdb.com/title/tt14230388/'),\n",
       " ('Sing 2', 'https://www.imdb.com/title/tt6467266/'),\n",
       " ('Black Widow', 'https://www.imdb.com/title/tt3480822/'),\n",
       " ('Jojo Rabbit', 'https://www.imdb.com/title/tt2584384/'),\n",
       " ('Marriage Story', 'https://www.imdb.com/title/tt7653254/'),\n",
       " ('Avengers: Endgame', 'https://www.imdb.com/title/tt4154796/'),\n",
       " ('Captain Marvel', 'https://www.imdb.com/title/tt4154664/'),\n",
       " ('Avengers: Infinity War', 'https://www.imdb.com/title/tt4154756/'),\n",
       " ('Isle of Dogs', 'https://www.imdb.com/title/tt5104604/'),\n",
       " ('Rough Night', 'https://www.imdb.com/title/tt4799050/'),\n",
       " ('Ghost in the Shell', 'https://www.imdb.com/title/tt1219827/'),\n",
       " ('Sing', 'https://www.imdb.com/title/tt3470600/'),\n",
       " ('Captain America: Civil War', 'https://www.imdb.com/title/tt3498820/'),\n",
       " ('The Jungle Book', 'https://www.imdb.com/title/tt3040964/'),\n",
       " ('Hail, Caesar!', 'https://www.imdb.com/title/tt0475290/'),\n",
       " ('Avengers: Age of Ultron', 'https://www.imdb.com/title/tt2395427/'),\n",
       " ('Assassin Banana', 'https://www.imdb.com/title/tt4334300/'),\n",
       " ('Captain America: The Winter Soldier',\n",
       "  'https://www.imdb.com/title/tt1843866/'),\n",
       " ('Chef', 'https://www.imdb.com/title/tt2883512/'),\n",
       " ('Her', 'https://www.imdb.com/title/tt1798709/'),\n",
       " ('Don Jon', 'https://www.imdb.com/title/tt2229499/'),\n",
       " ('Hitchcock', 'https://www.imdb.com/title/tt0975645/'),\n",
       " ('The Avengers', 'https://www.imdb.com/title/tt0848228/'),\n",
       " ('We Bought a Zoo', 'https://www.imdb.com/title/tt1389137/'),\n",
       " ('Iron Man 2', 'https://www.imdb.com/title/tt1228705/'),\n",
       " (\"He's Just Not That Into You\", 'https://www.imdb.com/title/tt1001508/'),\n",
       " ('The Spirit', 'https://www.imdb.com/title/tt0831887/'),\n",
       " ('Vicky Cristina Barcelona', 'https://www.imdb.com/title/tt0497465/'),\n",
       " ('The Other Boleyn Girl', 'https://www.imdb.com/title/tt0467200/'),\n",
       " ('The Nanny Diaries', 'https://www.imdb.com/title/tt0489237/'),\n",
       " ('The Prestige', 'https://www.imdb.com/title/tt0482571/'),\n",
       " ('The Black Dahlia', 'https://www.imdb.com/title/tt0387877/'),\n",
       " ('Scoop', 'https://www.imdb.com/title/tt0457513/'),\n",
       " ('The Island', 'https://www.imdb.com/title/tt0399201/'),\n",
       " ('Match Point', 'https://www.imdb.com/title/tt0416320/'),\n",
       " ('In Good Company', 'https://www.imdb.com/title/tt0385267/'),\n",
       " ('The SpongeBob SquarePants Movie', 'https://www.imdb.com/title/tt0345950/'),\n",
       " ('A Good Woman', 'https://www.imdb.com/title/tt0379306/'),\n",
       " ('A Love Song for Bobby Long', 'https://www.imdb.com/title/tt0369672/'),\n",
       " ('The Perfect Score', 'https://www.imdb.com/title/tt0314498/'),\n",
       " ('Girl with a Pearl Earring', 'https://www.imdb.com/title/tt0335119/'),\n",
       " ('Lost in Translation', 'https://www.imdb.com/title/tt0335266/'),\n",
       " ('Eight Legged Freaks', 'https://www.imdb.com/title/tt0271367/'),\n",
       " ('An American Rhapsody', 'https://www.imdb.com/title/tt0221799/'),\n",
       " ('Ghost World', 'https://www.imdb.com/title/tt0162346/'),\n",
       " (\"The Man Who Wasn't There\", 'https://www.imdb.com/title/tt0243133/'),\n",
       " ('My Brother the Pig', 'https://www.imdb.com/title/tt0165396/'),\n",
       " ('The Horse Whisperer', 'https://www.imdb.com/title/tt0119314/'),\n",
       " ('Home Alone 3', 'https://www.imdb.com/title/tt0119303/'),\n",
       " ('Fall', 'https://www.imdb.com/title/tt0119098/'),\n",
       " ('If Lucy Fell', 'https://www.imdb.com/title/tt0116606/'),\n",
       " ('Manny & Lo', 'https://www.imdb.com/title/tt0116985/'),\n",
       " ('Just Cause', 'https://www.imdb.com/title/tt0113501/'),\n",
       " ('North', 'https://www.imdb.com/title/tt0110687/')]"
      ]
     },
     "execution_count": 10,
     "metadata": {},
     "output_type": "execute_result"
    }
   ],
   "source": [
    "actor_page_soup = url_to_soup(url+'fullcredits').find('div', class_='filmo-category-section')\n",
    "get_movies_by_actor_soup(actor_page_soup)"
   ]
  },
  {
   "cell_type": "markdown",
   "id": "c2ad4d87",
   "metadata": {},
   "source": [
    "Test #5 - actress Scarlett Johansson https://www.imdb.com/name/nm0424060/, num_of_movies_limit=150"
   ]
  },
  {
   "cell_type": "code",
   "execution_count": 11,
   "id": "2a1b27c7",
   "metadata": {},
   "outputs": [
    {
     "data": {
      "text/plain": [
       "[('Asteroid City', 'https://www.imdb.com/title/tt14230388/'),\n",
       " ('Sing 2', 'https://www.imdb.com/title/tt6467266/'),\n",
       " ('Black Widow', 'https://www.imdb.com/title/tt3480822/'),\n",
       " ('Jojo Rabbit', 'https://www.imdb.com/title/tt2584384/'),\n",
       " ('Marriage Story', 'https://www.imdb.com/title/tt7653254/'),\n",
       " ('Avengers: Endgame', 'https://www.imdb.com/title/tt4154796/'),\n",
       " ('Captain Marvel', 'https://www.imdb.com/title/tt4154664/'),\n",
       " ('Avengers: Infinity War', 'https://www.imdb.com/title/tt4154756/'),\n",
       " ('Isle of Dogs', 'https://www.imdb.com/title/tt5104604/'),\n",
       " ('Rough Night', 'https://www.imdb.com/title/tt4799050/'),\n",
       " ('Ghost in the Shell', 'https://www.imdb.com/title/tt1219827/'),\n",
       " ('Sing', 'https://www.imdb.com/title/tt3470600/'),\n",
       " ('Captain America: Civil War', 'https://www.imdb.com/title/tt3498820/'),\n",
       " ('The Jungle Book', 'https://www.imdb.com/title/tt3040964/'),\n",
       " ('Hail, Caesar!', 'https://www.imdb.com/title/tt0475290/'),\n",
       " ('Avengers: Age of Ultron', 'https://www.imdb.com/title/tt2395427/'),\n",
       " ('Assassin Banana', 'https://www.imdb.com/title/tt4334300/'),\n",
       " ('Captain America: The Winter Soldier',\n",
       "  'https://www.imdb.com/title/tt1843866/'),\n",
       " ('Chef', 'https://www.imdb.com/title/tt2883512/'),\n",
       " ('Her', 'https://www.imdb.com/title/tt1798709/'),\n",
       " ('Don Jon', 'https://www.imdb.com/title/tt2229499/'),\n",
       " ('Hitchcock', 'https://www.imdb.com/title/tt0975645/'),\n",
       " ('The Avengers', 'https://www.imdb.com/title/tt0848228/'),\n",
       " ('We Bought a Zoo', 'https://www.imdb.com/title/tt1389137/'),\n",
       " ('Iron Man 2', 'https://www.imdb.com/title/tt1228705/'),\n",
       " (\"He's Just Not That Into You\", 'https://www.imdb.com/title/tt1001508/'),\n",
       " ('The Spirit', 'https://www.imdb.com/title/tt0831887/'),\n",
       " ('Vicky Cristina Barcelona', 'https://www.imdb.com/title/tt0497465/'),\n",
       " ('The Other Boleyn Girl', 'https://www.imdb.com/title/tt0467200/'),\n",
       " ('The Nanny Diaries', 'https://www.imdb.com/title/tt0489237/'),\n",
       " ('The Prestige', 'https://www.imdb.com/title/tt0482571/'),\n",
       " ('The Black Dahlia', 'https://www.imdb.com/title/tt0387877/'),\n",
       " ('Scoop', 'https://www.imdb.com/title/tt0457513/'),\n",
       " ('The Island', 'https://www.imdb.com/title/tt0399201/'),\n",
       " ('Match Point', 'https://www.imdb.com/title/tt0416320/'),\n",
       " ('In Good Company', 'https://www.imdb.com/title/tt0385267/'),\n",
       " ('The SpongeBob SquarePants Movie', 'https://www.imdb.com/title/tt0345950/'),\n",
       " ('A Good Woman', 'https://www.imdb.com/title/tt0379306/'),\n",
       " ('A Love Song for Bobby Long', 'https://www.imdb.com/title/tt0369672/'),\n",
       " ('The Perfect Score', 'https://www.imdb.com/title/tt0314498/'),\n",
       " ('Girl with a Pearl Earring', 'https://www.imdb.com/title/tt0335119/'),\n",
       " ('Lost in Translation', 'https://www.imdb.com/title/tt0335266/'),\n",
       " ('Eight Legged Freaks', 'https://www.imdb.com/title/tt0271367/'),\n",
       " ('An American Rhapsody', 'https://www.imdb.com/title/tt0221799/'),\n",
       " ('Ghost World', 'https://www.imdb.com/title/tt0162346/'),\n",
       " (\"The Man Who Wasn't There\", 'https://www.imdb.com/title/tt0243133/'),\n",
       " ('My Brother the Pig', 'https://www.imdb.com/title/tt0165396/'),\n",
       " ('The Horse Whisperer', 'https://www.imdb.com/title/tt0119314/'),\n",
       " ('Home Alone 3', 'https://www.imdb.com/title/tt0119303/'),\n",
       " ('Fall', 'https://www.imdb.com/title/tt0119098/'),\n",
       " ('If Lucy Fell', 'https://www.imdb.com/title/tt0116606/'),\n",
       " ('Manny & Lo', 'https://www.imdb.com/title/tt0116985/'),\n",
       " ('Just Cause', 'https://www.imdb.com/title/tt0113501/'),\n",
       " ('North', 'https://www.imdb.com/title/tt0110687/')]"
      ]
     },
     "execution_count": 11,
     "metadata": {},
     "output_type": "execute_result"
    }
   ],
   "source": [
    "get_movies_by_actor_soup(actor_page_soup, 150)"
   ]
  },
  {
   "cell_type": "markdown",
   "id": "c890cda7",
   "metadata": {},
   "source": [
    "Test #5 - actress Scarlett Johansson https://www.imdb.com/name/nm0424060/, num_of_movies_limit=5"
   ]
  },
  {
   "cell_type": "code",
   "execution_count": 12,
   "id": "32a52471",
   "metadata": {},
   "outputs": [
    {
     "data": {
      "text/plain": [
       "[('Asteroid City', 'https://www.imdb.com/title/tt14230388/'),\n",
       " ('Sing 2', 'https://www.imdb.com/title/tt6467266/'),\n",
       " ('Black Widow', 'https://www.imdb.com/title/tt3480822/'),\n",
       " ('Jojo Rabbit', 'https://www.imdb.com/title/tt2584384/'),\n",
       " ('Marriage Story', 'https://www.imdb.com/title/tt7653254/')]"
      ]
     },
     "execution_count": 12,
     "metadata": {},
     "output_type": "execute_result"
    }
   ],
   "source": [
    "get_movies_by_actor_soup(actor_page_soup, 5)"
   ]
  },
  {
   "cell_type": "markdown",
   "id": "01d088ad",
   "metadata": {},
   "source": [
    "### get_actors_by_movie_soup's tests"
   ]
  },
  {
   "cell_type": "markdown",
   "id": "919a3395",
   "metadata": {},
   "source": [
    "Test #7 - movie \"Black Widow\" https://www.imdb.com/title/tt3480822/fullcredits/"
   ]
  },
  {
   "cell_type": "code",
   "execution_count": 13,
   "id": "6214ba44",
   "metadata": {},
   "outputs": [],
   "source": [
    "url = 'https://www.imdb.com/title/tt3480822/fullcredits/'"
   ]
  },
  {
   "cell_type": "code",
   "execution_count": 14,
   "id": "0221a7d8",
   "metadata": {},
   "outputs": [
    {
     "name": "stdout",
     "output_type": "stream",
     "text": [
      "200\n"
     ]
    }
   ],
   "source": [
    "cast_page_soup = url_to_soup(url)"
   ]
  },
  {
   "cell_type": "code",
   "execution_count": 15,
   "id": "1df5d4ce",
   "metadata": {},
   "outputs": [],
   "source": [
    "def get_actors_by_movie_soup(cast_page_soup, num_of_actors_limit=None):\n",
    "    actors = []\n",
    "    for actor in cast_page_soup.find_all('td', class_='primary_photo'):\n",
    "        if num_of_actors_limit is not None and len(actors) >= num_of_actors_limit:\n",
    "            break\n",
    "        actor_url = 'https://www.imdb.com' + actor.find('a')['href']\n",
    "        actors.append((actor.find('img')['title'], actor_url))\n",
    "    return actors"
   ]
  },
  {
   "cell_type": "code",
   "execution_count": 16,
   "id": "00e02f57",
   "metadata": {},
   "outputs": [
    {
     "data": {
      "text/plain": [
       "[('Scarlett Johansson', 'https://www.imdb.com/name/nm0424060/'),\n",
       " ('Florence Pugh', 'https://www.imdb.com/name/nm6073955/'),\n",
       " ('Rachel Weisz', 'https://www.imdb.com/name/nm0001838/'),\n",
       " ('David Harbour', 'https://www.imdb.com/name/nm1092086/'),\n",
       " ('Ray Winstone', 'https://www.imdb.com/name/nm0935653/'),\n",
       " ('Ever Anderson', 'https://www.imdb.com/name/nm8349839/'),\n",
       " ('Violet McGraw', 'https://www.imdb.com/name/nm8627157/'),\n",
       " ('O-T Fagbenle', 'https://www.imdb.com/name/nm1282966/'),\n",
       " ('William Hurt', 'https://www.imdb.com/name/nm0000458/'),\n",
       " ('Olga Kurylenko', 'https://www.imdb.com/name/nm1385871/'),\n",
       " ('Ryan Kiera Armstrong', 'https://www.imdb.com/name/nm8740834/'),\n",
       " ('Liani Samuel', 'https://www.imdb.com/name/nm9384191/'),\n",
       " ('Michelle Lee', 'https://www.imdb.com/name/nm1685477/'),\n",
       " ('Lewis Young', 'https://www.imdb.com/name/nm4447854/'),\n",
       " ('C.C. Smiff', 'https://www.imdb.com/name/nm0806905/'),\n",
       " ('Nanna Blondell', 'https://www.imdb.com/name/nm2116753/'),\n",
       " ('Simona Zivkovska', 'https://www.imdb.com/name/nm4717792/'),\n",
       " ('Erin Jameson', 'https://www.imdb.com/name/nm11004715/'),\n",
       " ('Shaina West', 'https://www.imdb.com/name/nm10964538/'),\n",
       " ('Yolanda Lynes', 'https://www.imdb.com/name/nm7926404/'),\n",
       " ('Claudia Heinz', 'https://www.imdb.com/name/nm5817969/'),\n",
       " ('Fatou Bah', 'https://www.imdb.com/name/nm10929665/'),\n",
       " ('Jade Ma', 'https://www.imdb.com/name/nm10111016/'),\n",
       " ('Jade Xu', 'https://www.imdb.com/name/nm4978635/'),\n",
       " ('Lucy Jayne Murray', 'https://www.imdb.com/name/nm6159195/'),\n",
       " ('Lucy Cork', 'https://www.imdb.com/name/nm6434811/'),\n",
       " ('Eniko Fulop', 'https://www.imdb.com/name/nm6041721/'),\n",
       " ('Lauren Okadigbo', 'https://www.imdb.com/name/nm7413014/'),\n",
       " ('Aurélia Agel', 'https://www.imdb.com/name/nm9894422/'),\n",
       " ('Zhane Samuels', 'https://www.imdb.com/name/nm11430478/'),\n",
       " ('Shawarah Battles', 'https://www.imdb.com/name/nm11003684/'),\n",
       " ('Tabby Bond', 'https://www.imdb.com/name/nm3660908/'),\n",
       " ('Madeleine Nicholls', 'https://www.imdb.com/name/nm11003686/'),\n",
       " ('Yasmin Riley', 'https://www.imdb.com/name/nm10996988/'),\n",
       " ('Fiona Griffiths', 'https://www.imdb.com/name/nm11003683/'),\n",
       " ('Georgia Curtis', 'https://www.imdb.com/name/nm4403569/'),\n",
       " ('Svetlana Rumi', 'https://www.imdb.com/name/nm10323926/'),\n",
       " ('Ione Butler', 'https://www.imdb.com/name/nm3198287/'),\n",
       " ('Aubrey Cleland', 'https://www.imdb.com/name/nm5879446/'),\n",
       " ('Kurt Yue', 'https://www.imdb.com/name/nm4746345/'),\n",
       " ('Doug Robson', 'https://www.imdb.com/name/nm9910026/'),\n",
       " ('Zoltan Nagy', 'https://www.imdb.com/name/nm12740703/'),\n",
       " ('Marcel Dorian', 'https://www.imdb.com/name/nm7773218/'),\n",
       " ('Liran Nathan', 'https://www.imdb.com/name/nm3879338/'),\n",
       " ('Judit Varga-Szathmary', 'https://www.imdb.com/name/nm12740704/'),\n",
       " ('Noel Krisztian Kozak', 'https://www.imdb.com/name/nm12740705/'),\n",
       " ('Martin Razpopov', 'https://www.imdb.com/name/nm10896437/'),\n",
       " ('Olivier Richters', 'https://www.imdb.com/name/nm3689528/'),\n",
       " ('Nina Novich', 'https://www.imdb.com/name/nm7348310/'),\n",
       " ('Andrew Byron', 'https://www.imdb.com/name/nm1794753/'),\n",
       " ('Ed Ashe', 'https://www.imdb.com/name/nm10045051/'),\n",
       " ('Dawid Szatarski', 'https://www.imdb.com/name/nm3606178/'),\n",
       " ('Cali Nelle', 'https://www.imdb.com/name/nm4754115/'),\n",
       " ('Geoffrey D. Williams', 'https://www.imdb.com/name/nm1970083/'),\n",
       " ('Robert Pralgo', 'https://www.imdb.com/name/nm1128418/'),\n",
       " ('Jacinte Blankenship', 'https://www.imdb.com/name/nm2715450/'),\n",
       " ('Josh Henry', 'https://www.imdb.com/name/nm1483247/'),\n",
       " ('Jose Miguel Vasquez', 'https://www.imdb.com/name/nm3650400/'),\n",
       " ('Valentina Herrera', 'https://www.imdb.com/name/nm9151563/'),\n",
       " ('Danielle Jalade', 'https://www.imdb.com/name/nm11959928/'),\n",
       " ('Aria Brooks', 'https://www.imdb.com/name/nm9098598/'),\n",
       " ('Sophie Colgrove', 'https://www.imdb.com/name/nm10791240/'),\n",
       " ('Caister Choi', 'https://www.imdb.com/name/nm9834573/'),\n",
       " ('Omar Alboukharey', 'https://www.imdb.com/name/nm9535459/'),\n",
       " ('Shane Askam', 'https://www.imdb.com/name/nm10632555/'),\n",
       " ('Ahmed Bakare', 'https://www.imdb.com/name/nm11023932/'),\n",
       " ('Luigi Boccanfuso', 'https://www.imdb.com/name/nm9707028/'),\n",
       " ('Chadwick Boseman', 'https://www.imdb.com/name/nm1569276/'),\n",
       " ('Wong Charlie', 'https://www.imdb.com/name/nm10360936/'),\n",
       " ('Jason Christopher', 'https://www.imdb.com/name/nm4415558/'),\n",
       " ('James Cox', 'https://www.imdb.com/name/nm4157912/'),\n",
       " ('Jordyn Curet', 'https://www.imdb.com/name/nm4678576/'),\n",
       " ('Luke Elkins', 'https://www.imdb.com/name/nm8900115/'),\n",
       " ('Roman Green', 'https://www.imdb.com/name/nm5888932/'),\n",
       " ('Tom Hiddleston', 'https://www.imdb.com/name/nm1089991/'),\n",
       " ('Rob Horrocks', 'https://www.imdb.com/name/nm6403979/'),\n",
       " ('Jaey Howe', 'https://www.imdb.com/name/nm7239258/'),\n",
       " ('Ty Hurley', 'https://www.imdb.com/name/nm7287176/'),\n",
       " ('Tyrone Kearns', 'https://www.imdb.com/name/nm6044736/'),\n",
       " ('Graham Kitchen', 'https://www.imdb.com/name/nm10027279/'),\n",
       " ('Jorge Leon', 'https://www.imdb.com/name/nm5855226/'),\n",
       " ('Gavin Lee Lewis', 'https://www.imdb.com/name/nm6818702/'),\n",
       " ('Eugene Lin', 'https://www.imdb.com/name/nm13889383/'),\n",
       " ('Dale Liner', 'https://www.imdb.com/name/nm1236209/'),\n",
       " ('Marian Lorencik', 'https://www.imdb.com/name/nm6631007/'),\n",
       " ('Julia Louis-Dreyfus', 'https://www.imdb.com/name/nm0000506/'),\n",
       " ('Yuuki Luna', 'https://www.imdb.com/name/nm3874590/'),\n",
       " ('Obie Matthew', 'https://www.imdb.com/name/nm1975399/'),\n",
       " ('Kenny-Lee Mbanefo', 'https://www.imdb.com/name/nm8728573/'),\n",
       " ('Tony McCarthy', 'https://www.imdb.com/name/nm11105476/'),\n",
       " ('Stephen McGowan', 'https://www.imdb.com/name/nm1732044/'),\n",
       " (\"Paul O'Kelly\", 'https://www.imdb.com/name/nm8361490/'),\n",
       " ('Edward L. Oliver', 'https://www.imdb.com/name/nm10605908/'),\n",
       " ('Adam Prickett', 'https://www.imdb.com/name/nm4605797/'),\n",
       " ('Zoltan Rencsar', 'https://www.imdb.com/name/nm11658882/'),\n",
       " ('Stephen Samson', 'https://www.imdb.com/name/nm0760337/'),\n",
       " ('Oliver Simms', 'https://www.imdb.com/name/nm8909296/'),\n",
       " ('Joakim Skarli', 'https://www.imdb.com/name/nm7813817/'),\n",
       " ('James Snelling', 'https://www.imdb.com/name/nm11240415/'),\n",
       " ('Clem So', 'https://www.imdb.com/name/nm6680316/'),\n",
       " ('Iain Tingley', 'https://www.imdb.com/name/nm9974888/'),\n",
       " ('Andrew Tull', 'https://www.imdb.com/name/nm12241326/'),\n",
       " ('David Turner', 'https://www.imdb.com/name/nm10491024/'),\n",
       " ('Kalina Vanska', 'https://www.imdb.com/name/nm2338656/'),\n",
       " ('Chad J. Wagner', 'https://www.imdb.com/name/nm8242662/'),\n",
       " ('Ian Wilson', 'https://www.imdb.com/name/nm11227852/'),\n",
       " ('Daniel Joseph Woolf', 'https://www.imdb.com/name/nm9281009/')]"
      ]
     },
     "execution_count": 16,
     "metadata": {},
     "output_type": "execute_result"
    }
   ],
   "source": [
    "get_actors_by_movie_soup(cast_page_soup)"
   ]
  },
  {
   "cell_type": "markdown",
   "id": "f32696d5",
   "metadata": {},
   "source": [
    "Test #8 - movie \"Black Widow\" https://www.imdb.com/title/tt3480822/fullcredits/, num_of_actors_limit=150"
   ]
  },
  {
   "cell_type": "code",
   "execution_count": 17,
   "id": "5d0223d1",
   "metadata": {},
   "outputs": [
    {
     "data": {
      "text/plain": [
       "[('Scarlett Johansson', 'https://www.imdb.com/name/nm0424060/'),\n",
       " ('Florence Pugh', 'https://www.imdb.com/name/nm6073955/'),\n",
       " ('Rachel Weisz', 'https://www.imdb.com/name/nm0001838/'),\n",
       " ('David Harbour', 'https://www.imdb.com/name/nm1092086/'),\n",
       " ('Ray Winstone', 'https://www.imdb.com/name/nm0935653/'),\n",
       " ('Ever Anderson', 'https://www.imdb.com/name/nm8349839/'),\n",
       " ('Violet McGraw', 'https://www.imdb.com/name/nm8627157/'),\n",
       " ('O-T Fagbenle', 'https://www.imdb.com/name/nm1282966/'),\n",
       " ('William Hurt', 'https://www.imdb.com/name/nm0000458/'),\n",
       " ('Olga Kurylenko', 'https://www.imdb.com/name/nm1385871/'),\n",
       " ('Ryan Kiera Armstrong', 'https://www.imdb.com/name/nm8740834/'),\n",
       " ('Liani Samuel', 'https://www.imdb.com/name/nm9384191/'),\n",
       " ('Michelle Lee', 'https://www.imdb.com/name/nm1685477/'),\n",
       " ('Lewis Young', 'https://www.imdb.com/name/nm4447854/'),\n",
       " ('C.C. Smiff', 'https://www.imdb.com/name/nm0806905/'),\n",
       " ('Nanna Blondell', 'https://www.imdb.com/name/nm2116753/'),\n",
       " ('Simona Zivkovska', 'https://www.imdb.com/name/nm4717792/'),\n",
       " ('Erin Jameson', 'https://www.imdb.com/name/nm11004715/'),\n",
       " ('Shaina West', 'https://www.imdb.com/name/nm10964538/'),\n",
       " ('Yolanda Lynes', 'https://www.imdb.com/name/nm7926404/'),\n",
       " ('Claudia Heinz', 'https://www.imdb.com/name/nm5817969/'),\n",
       " ('Fatou Bah', 'https://www.imdb.com/name/nm10929665/'),\n",
       " ('Jade Ma', 'https://www.imdb.com/name/nm10111016/'),\n",
       " ('Jade Xu', 'https://www.imdb.com/name/nm4978635/'),\n",
       " ('Lucy Jayne Murray', 'https://www.imdb.com/name/nm6159195/'),\n",
       " ('Lucy Cork', 'https://www.imdb.com/name/nm6434811/'),\n",
       " ('Eniko Fulop', 'https://www.imdb.com/name/nm6041721/'),\n",
       " ('Lauren Okadigbo', 'https://www.imdb.com/name/nm7413014/'),\n",
       " ('Aurélia Agel', 'https://www.imdb.com/name/nm9894422/'),\n",
       " ('Zhane Samuels', 'https://www.imdb.com/name/nm11430478/'),\n",
       " ('Shawarah Battles', 'https://www.imdb.com/name/nm11003684/'),\n",
       " ('Tabby Bond', 'https://www.imdb.com/name/nm3660908/'),\n",
       " ('Madeleine Nicholls', 'https://www.imdb.com/name/nm11003686/'),\n",
       " ('Yasmin Riley', 'https://www.imdb.com/name/nm10996988/'),\n",
       " ('Fiona Griffiths', 'https://www.imdb.com/name/nm11003683/'),\n",
       " ('Georgia Curtis', 'https://www.imdb.com/name/nm4403569/'),\n",
       " ('Svetlana Rumi', 'https://www.imdb.com/name/nm10323926/'),\n",
       " ('Ione Butler', 'https://www.imdb.com/name/nm3198287/'),\n",
       " ('Aubrey Cleland', 'https://www.imdb.com/name/nm5879446/'),\n",
       " ('Kurt Yue', 'https://www.imdb.com/name/nm4746345/'),\n",
       " ('Doug Robson', 'https://www.imdb.com/name/nm9910026/'),\n",
       " ('Zoltan Nagy', 'https://www.imdb.com/name/nm12740703/'),\n",
       " ('Marcel Dorian', 'https://www.imdb.com/name/nm7773218/'),\n",
       " ('Liran Nathan', 'https://www.imdb.com/name/nm3879338/'),\n",
       " ('Judit Varga-Szathmary', 'https://www.imdb.com/name/nm12740704/'),\n",
       " ('Noel Krisztian Kozak', 'https://www.imdb.com/name/nm12740705/'),\n",
       " ('Martin Razpopov', 'https://www.imdb.com/name/nm10896437/'),\n",
       " ('Olivier Richters', 'https://www.imdb.com/name/nm3689528/'),\n",
       " ('Nina Novich', 'https://www.imdb.com/name/nm7348310/'),\n",
       " ('Andrew Byron', 'https://www.imdb.com/name/nm1794753/'),\n",
       " ('Ed Ashe', 'https://www.imdb.com/name/nm10045051/'),\n",
       " ('Dawid Szatarski', 'https://www.imdb.com/name/nm3606178/'),\n",
       " ('Cali Nelle', 'https://www.imdb.com/name/nm4754115/'),\n",
       " ('Geoffrey D. Williams', 'https://www.imdb.com/name/nm1970083/'),\n",
       " ('Robert Pralgo', 'https://www.imdb.com/name/nm1128418/'),\n",
       " ('Jacinte Blankenship', 'https://www.imdb.com/name/nm2715450/'),\n",
       " ('Josh Henry', 'https://www.imdb.com/name/nm1483247/'),\n",
       " ('Jose Miguel Vasquez', 'https://www.imdb.com/name/nm3650400/'),\n",
       " ('Valentina Herrera', 'https://www.imdb.com/name/nm9151563/'),\n",
       " ('Danielle Jalade', 'https://www.imdb.com/name/nm11959928/'),\n",
       " ('Aria Brooks', 'https://www.imdb.com/name/nm9098598/'),\n",
       " ('Sophie Colgrove', 'https://www.imdb.com/name/nm10791240/'),\n",
       " ('Caister Choi', 'https://www.imdb.com/name/nm9834573/'),\n",
       " ('Omar Alboukharey', 'https://www.imdb.com/name/nm9535459/'),\n",
       " ('Shane Askam', 'https://www.imdb.com/name/nm10632555/'),\n",
       " ('Ahmed Bakare', 'https://www.imdb.com/name/nm11023932/'),\n",
       " ('Luigi Boccanfuso', 'https://www.imdb.com/name/nm9707028/'),\n",
       " ('Chadwick Boseman', 'https://www.imdb.com/name/nm1569276/'),\n",
       " ('Wong Charlie', 'https://www.imdb.com/name/nm10360936/'),\n",
       " ('Jason Christopher', 'https://www.imdb.com/name/nm4415558/'),\n",
       " ('James Cox', 'https://www.imdb.com/name/nm4157912/'),\n",
       " ('Jordyn Curet', 'https://www.imdb.com/name/nm4678576/'),\n",
       " ('Luke Elkins', 'https://www.imdb.com/name/nm8900115/'),\n",
       " ('Roman Green', 'https://www.imdb.com/name/nm5888932/'),\n",
       " ('Tom Hiddleston', 'https://www.imdb.com/name/nm1089991/'),\n",
       " ('Rob Horrocks', 'https://www.imdb.com/name/nm6403979/'),\n",
       " ('Jaey Howe', 'https://www.imdb.com/name/nm7239258/'),\n",
       " ('Ty Hurley', 'https://www.imdb.com/name/nm7287176/'),\n",
       " ('Tyrone Kearns', 'https://www.imdb.com/name/nm6044736/'),\n",
       " ('Graham Kitchen', 'https://www.imdb.com/name/nm10027279/'),\n",
       " ('Jorge Leon', 'https://www.imdb.com/name/nm5855226/'),\n",
       " ('Gavin Lee Lewis', 'https://www.imdb.com/name/nm6818702/'),\n",
       " ('Eugene Lin', 'https://www.imdb.com/name/nm13889383/'),\n",
       " ('Dale Liner', 'https://www.imdb.com/name/nm1236209/'),\n",
       " ('Marian Lorencik', 'https://www.imdb.com/name/nm6631007/'),\n",
       " ('Julia Louis-Dreyfus', 'https://www.imdb.com/name/nm0000506/'),\n",
       " ('Yuuki Luna', 'https://www.imdb.com/name/nm3874590/'),\n",
       " ('Obie Matthew', 'https://www.imdb.com/name/nm1975399/'),\n",
       " ('Kenny-Lee Mbanefo', 'https://www.imdb.com/name/nm8728573/'),\n",
       " ('Tony McCarthy', 'https://www.imdb.com/name/nm11105476/'),\n",
       " ('Stephen McGowan', 'https://www.imdb.com/name/nm1732044/'),\n",
       " (\"Paul O'Kelly\", 'https://www.imdb.com/name/nm8361490/'),\n",
       " ('Edward L. Oliver', 'https://www.imdb.com/name/nm10605908/'),\n",
       " ('Adam Prickett', 'https://www.imdb.com/name/nm4605797/'),\n",
       " ('Zoltan Rencsar', 'https://www.imdb.com/name/nm11658882/'),\n",
       " ('Stephen Samson', 'https://www.imdb.com/name/nm0760337/'),\n",
       " ('Oliver Simms', 'https://www.imdb.com/name/nm8909296/'),\n",
       " ('Joakim Skarli', 'https://www.imdb.com/name/nm7813817/'),\n",
       " ('James Snelling', 'https://www.imdb.com/name/nm11240415/'),\n",
       " ('Clem So', 'https://www.imdb.com/name/nm6680316/'),\n",
       " ('Iain Tingley', 'https://www.imdb.com/name/nm9974888/'),\n",
       " ('Andrew Tull', 'https://www.imdb.com/name/nm12241326/'),\n",
       " ('David Turner', 'https://www.imdb.com/name/nm10491024/'),\n",
       " ('Kalina Vanska', 'https://www.imdb.com/name/nm2338656/'),\n",
       " ('Chad J. Wagner', 'https://www.imdb.com/name/nm8242662/'),\n",
       " ('Ian Wilson', 'https://www.imdb.com/name/nm11227852/'),\n",
       " ('Daniel Joseph Woolf', 'https://www.imdb.com/name/nm9281009/')]"
      ]
     },
     "execution_count": 17,
     "metadata": {},
     "output_type": "execute_result"
    }
   ],
   "source": [
    "get_actors_by_movie_soup(cast_page_soup, 150)"
   ]
  },
  {
   "cell_type": "markdown",
   "id": "13bc290c",
   "metadata": {},
   "source": [
    "Test #9 - movie \"Black Widow\" https://www.imdb.com/title/tt3480822/fullcredits/, num_of_actors_limit=5"
   ]
  },
  {
   "cell_type": "code",
   "execution_count": 18,
   "id": "7ef3ac2b",
   "metadata": {},
   "outputs": [
    {
     "data": {
      "text/plain": [
       "[('Scarlett Johansson', 'https://www.imdb.com/name/nm0424060/'),\n",
       " ('Florence Pugh', 'https://www.imdb.com/name/nm6073955/'),\n",
       " ('Rachel Weisz', 'https://www.imdb.com/name/nm0001838/'),\n",
       " ('David Harbour', 'https://www.imdb.com/name/nm1092086/'),\n",
       " ('Ray Winstone', 'https://www.imdb.com/name/nm0935653/')]"
      ]
     },
     "execution_count": 18,
     "metadata": {},
     "output_type": "execute_result"
    }
   ],
   "source": [
    "get_actors_by_movie_soup(cast_page_soup, 5)"
   ]
  },
  {
   "cell_type": "code",
   "execution_count": null,
   "id": "559343c8",
   "metadata": {},
   "outputs": [],
   "source": []
  }
 ],
 "metadata": {
  "kernelspec": {
   "display_name": "Python 3 (ipykernel)",
   "language": "python",
   "name": "python3"
  },
  "language_info": {
   "codemirror_mode": {
    "name": "ipython",
    "version": 3
   },
   "file_extension": ".py",
   "mimetype": "text/x-python",
   "name": "python",
   "nbconvert_exporter": "python",
   "pygments_lexer": "ipython3",
   "version": "3.9.12"
  }
 },
 "nbformat": 4,
 "nbformat_minor": 5
}
